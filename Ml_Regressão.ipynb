{
 "cells": [
  {
   "cell_type": "markdown",
   "id": "1fb8b14e",
   "metadata": {},
   "source": [
    "Imports importantes"
   ]
  },
  {
   "cell_type": "code",
   "execution_count": 1,
   "id": "eeaaa20e",
   "metadata": {},
   "outputs": [],
   "source": [
    "import pandas as pd\n",
    "import numpy as np"
   ]
  },
  {
   "cell_type": "markdown",
   "id": "7335e1f0",
   "metadata": {},
   "source": [
    "Carregando Dataset"
   ]
  },
  {
   "cell_type": "code",
   "execution_count": 2,
   "id": "5d7f2375",
   "metadata": {},
   "outputs": [
    {
     "name": "stdout",
     "output_type": "stream",
     "text": [
      "<class 'pandas.core.frame.DataFrame'>\n",
      "RangeIndex: 12020 entries, 0 to 12019\n",
      "Data columns (total 22 columns):\n",
      " #   Column                   Non-Null Count  Dtype  \n",
      "---  ------                   --------------  -----  \n",
      " 0   id                       12020 non-null  int64  \n",
      " 1   title                    12020 non-null  object \n",
      " 2   vote_average             12020 non-null  float64\n",
      " 3   vote_count               12020 non-null  float64\n",
      " 4   release_date             12020 non-null  object \n",
      " 5   revenue                  12020 non-null  float64\n",
      " 6   runtime                  12020 non-null  float64\n",
      " 7   budget                   12020 non-null  float64\n",
      " 8   original_language        12020 non-null  object \n",
      " 9   popularity               12020 non-null  float64\n",
      " 10  genres                   12020 non-null  object \n",
      " 11  production_companies     11618 non-null  object \n",
      " 12  production_countries     11769 non-null  object \n",
      " 13  cast                     11970 non-null  object \n",
      " 14  director                 11970 non-null  object \n",
      " 15  director_of_photography  10299 non-null  object \n",
      " 16  writers                  11713 non-null  object \n",
      " 17  producers                11108 non-null  object \n",
      " 18  music_composer           9087 non-null   object \n",
      " 19  imdb_rating              12020 non-null  float64\n",
      " 20  imdb_votes               12020 non-null  float64\n",
      " 21  profit_percentage        12020 non-null  float64\n",
      "dtypes: float64(9), int64(1), object(12)\n",
      "memory usage: 2.0+ MB\n"
     ]
    }
   ],
   "source": [
    "tmdb_df = pd.read_csv(\"tmdb_new.csv\")\n",
    "tmdb_df.head()\n",
    "tmdb_df.info()"
   ]
  },
  {
   "cell_type": "code",
   "execution_count": null,
   "id": "208a3ec6",
   "metadata": {},
   "outputs": [],
   "source": [
    "from scipy.sparse import save_npz\n",
    "from scipy.sparse import csr_matrix\n",
    "from collections import Counter\n",
    "\n",
    "\n",
    "def str_para_categorico(df: pd.DataFrame, coluna: str, k: int) -> pd.DataFrame:\n",
    "    \"\"\"\n",
    "    Converte atributo de string para matriz esparsa\n",
    "    \"\"\"\n",
    "    c = Counter()\n",
    "    for string in df[coluna]:\n",
    "        if string is not np.nan:\n",
    "            c.update(string.split(\", \")) \n",
    "    res = pd.DataFrame(index=df[\"title\"])\n",
    "    \n",
    "    n_cols = 0\n",
    "    for i in c.most_common():\n",
    "        n_cols += 1\n",
    "        if i[1] < k:\n",
    "            break\n",
    "    print(coluna, n_cols, \"colunas\")\n",
    "\n",
    "    for i in c.most_common():\n",
    "        if i[1] < k:\n",
    "            break\n",
    "        nova_col = []\n",
    "        for string in df[coluna]:\n",
    "            if string is not np.nan:\n",
    "                nova_col.append(1 if i[0] in string.split(\", \") else 0)\n",
    "            else:\n",
    "                nova_col.append(0)\n",
    "        res[i[0]] = np.array(nova_col, dtype=np.int8)\n",
    "        res = res.copy()\n",
    "\n",
    "    sparse = csr_matrix(res) \n",
    "    save_npz(f\"matrizes_esparsas/sparse_{coluna}_{k}.npz\", sparse) # Salva em forma de matriz esparsa scipy\n",
    "\n",
    "    return res"
   ]
  },
  {
   "cell_type": "code",
   "execution_count": null,
   "id": "a386af16",
   "metadata": {},
   "outputs": [],
   "source": [
    "def str_para_categorico_v2(df: pd.DataFrame, coluna: str, k: int) -> pd.DataFrame:\n",
    "    \"\"\"\n",
    "    Converte atributo de string para matriz esparsa\n",
    "    \"\"\"\n",
    "    c = Counter()\n",
    "    for string in df[coluna]:\n",
    "        if string is not np.nan:\n",
    "            c.update(string.split(\", \")) \n",
    "    res = pd.DataFrame(index=df[\"title\"])\n",
    "    \n",
    "    n_cols = 0\n",
    "    for i in c.most_common():\n",
    "        n_cols += 1\n",
    "        if i[1] < k:\n",
    "            break\n",
    "    print(coluna, n_cols, \"colunas\")\n",
    "\n",
    "    for i in c.most_common():\n",
    "        if i[1] < k:\n",
    "            break\n",
    "        nova_col = []\n",
    "        for string in df[coluna]:\n",
    "            if string is not np.nan:\n",
    "                nova_col.append(1 if i[0] in string.split(\", \") else 0)\n",
    "            else:\n",
    "                nova_col.append(0)\n",
    "        res[i[0]] = np.array(nova_col, dtype=np.int8)\n",
    "        res = res.copy()\n",
    "\n",
    "    sparse = csr_matrix(res) \n",
    "    save_npz(f\"matrizes_esparsas/sparse_{coluna}_{k}.npz\", sparse) # Salva em forma de matriz esparsa scipy\n",
    "\n",
    "    return res"
   ]
  },
  {
   "cell_type": "markdown",
   "id": "a3732d7d",
   "metadata": {},
   "source": [
    "Criar e salvar matrizes esparsas"
   ]
  },
  {
   "cell_type": "code",
   "execution_count": null,
   "id": "db592abc",
   "metadata": {},
   "outputs": [
    {
     "name": "stdout",
     "output_type": "stream",
     "text": [
      "19 colunas\n",
      "13 colunas\n",
      "9 colunas\n",
      "46 colunas\n",
      "68 colunas\n",
      "751 colunas\n"
     ]
    }
   ],
   "source": [
    "for col in [\"genres\", \"writers\", \"director\", \"director_of_photography\", \"music_composer\", \"cast\", \"production_countries\", \"original_language\", \"producers\", \"production_companies\"]:\n",
    "    try:\n",
    "        str_para_categorico(tmdb_df, col, 25)\n",
    "    except:\n",
    "        print(col)"
   ]
  },
  {
   "cell_type": "code",
   "execution_count": 5,
   "id": "0e0524d7",
   "metadata": {},
   "outputs": [],
   "source": [
    "from scipy.sparse import load_npz\n",
    "from scipy.sparse import hstack\n",
    "import os\n",
    "\n",
    "def abrir_matrizes_esparsas(k: int = 5):\n",
    "    \"\"\"\n",
    "    Carrega e concatena matrizes esparsas\n",
    "    \"\"\"\n",
    "    l = []\n",
    "    for arquivo in os.listdir(\"./matrizes_esparsas\"):\n",
    "        try:\n",
    "            k_ok = int(arquivo.split(\"_\")[-1][:-4]) == k\n",
    "        except:\n",
    "            k_ok = False\n",
    "        if arquivo[-4:] == \".npz\" and k_ok:\n",
    "            l.append(load_npz(f\"./matrizes_esparsas/{arquivo}\"))\n",
    "            print(arquivo)\n",
    "    return hstack(l)"
   ]
  },
  {
   "cell_type": "code",
   "execution_count": 7,
   "id": "de23b6b9",
   "metadata": {},
   "outputs": [
    {
     "name": "stdout",
     "output_type": "stream",
     "text": [
      "sparse_genres_25.npz\n",
      "sparse_producers_25.npz\n",
      "sparse_production_countries_25.npz\n",
      "sparse_music_composer_25.npz\n",
      "sparse_director_of_photography_25.npz\n",
      "sparse_director_25.npz\n",
      "sparse_production_companies_25.npz\n",
      "sparse_writers_25.npz\n",
      "sparse_cast_25.npz\n",
      "sparse_original_language_25.npz\n"
     ]
    }
   ],
   "source": [
    "sparse = abrir_matrizes_esparsas(25)"
   ]
  },
  {
   "cell_type": "markdown",
   "id": "9c34884d",
   "metadata": {},
   "source": [
    "Separando Conjunto de treinamento e teste"
   ]
  },
  {
   "cell_type": "code",
   "execution_count": 8,
   "id": "6c48e82e",
   "metadata": {},
   "outputs": [],
   "source": [
    "from sklearn.model_selection import train_test_split\n",
    "X_treino, X_teste, y_treino, y_teste = train_test_split(\n",
    "    hstack([csr_matrix(tmdb_df[[\"budget\", \"runtime\"]]), sparse]), tmdb_df[\"revenue\"].to_numpy(), test_size=0.2, random_state=42\n",
    "    )"
   ]
  },
  {
   "cell_type": "code",
   "execution_count": null,
   "id": "24851e8e",
   "metadata": {},
   "outputs": [
    {
     "name": "stdout",
     "output_type": "stream",
     "text": [
      "Erro médio no conjunto de treino: 35994938.63645456\n",
      "Erro médio no conjunto de val: 95965871.44893236\n"
     ]
    }
   ],
   "source": [
    "from sklearn.ensemble import RandomForestRegressor\n",
    "# from sklearn.linear_model import LinearRegression\n",
    "# from sklearn.neural_network import MLPRegressor\n",
    "\n",
    "l = RandomForestRegressor(random_state=42)\n",
    "\n",
    "# forest ≃ 94_000_000\n",
    "# votingRegressor ≃ 95_000_000\n",
    "# mlp ≃ 101_000_000\n",
    "# linear ≃ 102_000_000\n",
    "\n",
    "l.fit(X_treino, y_treino)\n"
   ]
  },
  {
   "cell_type": "code",
   "execution_count": null,
   "id": "4324547c",
   "metadata": {},
   "outputs": [],
   "source": [
    "from sklearn.metrics import root_mean_squared_error\n",
    "\n",
    "print(f\"Erro médio no conjunto de treino: {root_mean_squared_error(y_treino, l.predict(X_treino))}\")\n",
    "print(f\"Erro médio no conjunto de teste: {root_mean_squared_error(y_teste, l.predict(X_teste))}\")"
   ]
  },
  {
   "cell_type": "code",
   "execution_count": null,
   "id": "f9c02777",
   "metadata": {},
   "outputs": [],
   "source": [
    "# Salvando modelo\n",
    "\n",
    "import pickle\n",
    "\n",
    "with open(\"modelos/random_forest_revenue_k=25.pkl\", \"wb\") as f:\n",
    "    pickle.dump(l, f)"
   ]
  },
  {
   "cell_type": "code",
   "execution_count": null,
   "id": "672be4d7",
   "metadata": {},
   "outputs": [],
   "source": [
    "# Carregando modelo\n",
    "\n",
    "with open(\"modelos/lasso-imdb_rating.pkl\", \"rb\") as f:\n",
    "    l = pickle.load(f)"
   ]
  },
  {
   "cell_type": "markdown",
   "id": "65d05134",
   "metadata": {},
   "source": [
    "Testando diferentes entradas"
   ]
  },
  {
   "cell_type": "code",
   "execution_count": 16,
   "id": "622ee0c3",
   "metadata": {},
   "outputs": [
    {
     "name": "stdout",
     "output_type": "stream",
     "text": [
      "19 colunas\n",
      "243 colunas\n",
      "146 colunas\n",
      "258 colunas\n",
      "219 colunas\n",
      "4782 colunas\n",
      "60 colunas\n",
      "40 colunas\n",
      "948 colunas\n",
      "539 colunas\n"
     ]
    }
   ],
   "source": [
    "for col in [\"genres\", \"writers\", \"director\", \"director_of_photography\", \"music_composer\", \"cast\", \"production_countries\", \"original_language\", \"producers\", \"production_companies\"]:\n",
    "    try:\n",
    "        str_para_categorico(tmdb_df, col, 10)\n",
    "    except:\n",
    "        print(col)"
   ]
  },
  {
   "cell_type": "code",
   "execution_count": 17,
   "id": "69d4bf86",
   "metadata": {},
   "outputs": [
    {
     "name": "stdout",
     "output_type": "stream",
     "text": [
      "genres                   : 108441173.698\n",
      "writers                  : 103960874.948\n",
      "director                 : 111717593.803\n",
      "director_of_photography  : 109383998.408\n",
      "music_composer           : 103768307.644\n",
      "cast                     : 98270671.449\n",
      "production_countries     : 115452040.997\n",
      "original_language        : 117723900.328\n",
      "producers                : 100167599.362\n",
      "production_companies     : 100558968.693\n"
     ]
    }
   ],
   "source": [
    "from sklearn.metrics import root_mean_squared_error\n",
    "\n",
    "for col in [\"genres\", \"writers\", \"director\", \"director_of_photography\", \"music_composer\", \"cast\", \"production_countries\", \"original_language\", \"producers\", \"production_companies\"]:\n",
    "    \n",
    "    X_treino, X_teste, y_treino, y_teste = train_test_split(\n",
    "        hstack([csr_matrix(tmdb_df[[\"budget\", \"runtime\"]]), load_npz(f\"matrizes_esparsas/sparse_{col}_10.npz\")]), tmdb_df[\"revenue\"].to_numpy(), test_size=0.2, random_state=13\n",
    "    )\n",
    "    from sklearn.ensemble import RandomForestRegressor\n",
    "\n",
    "    l = RandomForestRegressor(random_state=42)\n",
    "\n",
    "    l.fit(X_treino, y_treino)\n",
    "\n",
    "    print(f\"{col:<25}: {root_mean_squared_error(y_teste, l.predict(X_teste)):9.3f}\")"
   ]
  },
  {
   "cell_type": "code",
   "execution_count": null,
   "id": "c4685402",
   "metadata": {},
   "outputs": [],
   "source": []
  }
 ],
 "metadata": {
  "kernelspec": {
   "display_name": ".venv",
   "language": "python",
   "name": "python3"
  },
  "language_info": {
   "codemirror_mode": {
    "name": "ipython",
    "version": 3
   },
   "file_extension": ".py",
   "mimetype": "text/x-python",
   "name": "python",
   "nbconvert_exporter": "python",
   "pygments_lexer": "ipython3",
   "version": "3.12.3"
  }
 },
 "nbformat": 4,
 "nbformat_minor": 5
}
